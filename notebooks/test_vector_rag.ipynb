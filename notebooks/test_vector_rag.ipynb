{
 "cells": [
  {
   "cell_type": "code",
   "execution_count": null,
   "id": "7a3c2f11",
   "metadata": {},
   "outputs": [],
   "source": [
    "# notebooks/test_vector_rag.ipynb\n",
    "\n",
    "from sentence_transformers import SentenceTransformer\n",
    "from src.shared.embedding import embed_text\n",
    "import numpy as np\n",
    "\n",
    "# Simulando um banco vetorial com textos\n",
    "documents = [\n",
    "    \"O edifício foi projetado em 2019.\",\n",
    "    \"A fundação começou em março de 2020.\",\n",
    "    \"A estrutura foi concluída em julho de 2021.\",\n",
    "]\n",
    "\n",
    "# Embed all docs\n",
    "doc_embeddings = [embed_text(doc) for doc in documents]\n",
    "\n",
    "# Consulta simulada\n",
    "query = \"Quando a estrutura do prédio foi finalizada?\"\n",
    "query_embedding = embed_text(query)\n",
    "\n",
    "# Cálculo da similaridade\n",
    "from sklearn.metrics.pairwise import cosine_similarity\n",
    "\n",
    "similarities = [cosine_similarity([query_embedding], [emb])[0][0] for emb in doc_embeddings]\n",
    "ranked = sorted(zip(similarities, documents), reverse=True)\n",
    "\n",
    "print(\"🔎 Resultados ordenados por similaridade:\")\n",
    "for score, doc in ranked:\n",
    "    print(f\"{score:.2f} - {doc}\")\n"
   ]
  }
 ],
 "metadata": {
  "kernelspec": {
   "display_name": "llm-comparison",
   "language": "python",
   "name": "python3"
  },
  "language_info": {
   "name": "python",
   "version": "3.9.23"
  }
 },
 "nbformat": 4,
 "nbformat_minor": 5
}
