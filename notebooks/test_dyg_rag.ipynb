{
 "cells": [
  {
   "cell_type": "code",
   "execution_count": null,
   "id": "783a32e5",
   "metadata": {},
   "outputs": [],
   "source": [
    "# notebooks/test_dyg_rag.ipynb\n",
    "\n",
    "from src.shared.kuzu_utils import KuzuInterface\n",
    "from src.shared.deu import print_deu\n",
    "\n",
    "# Inicializar conexão\n",
    "kuzu_db = KuzuInterface(\"graph_kuzu\")\n",
    "\n",
    "# Consulta: todos os eventos de tipo \"Construção\"\n",
    "cypher = \"\"\"\n",
    "MATCH (e:Event) \n",
    "WHERE e.type = \"Construção\"\n",
    "RETURN e.event_id AS event_id, e.anchor_time AS anchor_time, \n",
    "       e.type AS type, e.description AS description, \n",
    "       e.related_entities AS related_entities\n",
    "ORDER BY e.anchor_time\n",
    "\"\"\"\n",
    "\n",
    "result = kuzu_db.query(cypher)\n",
    "\n",
    "# Printando os DEUs formatados\n",
    "print(\"🧱 Eventos de Construção encontrados:\")\n",
    "for row in result:\n",
    "    print_deu(row)\n",
    "\n",
    "kuzu_db.close()\n"
   ]
  }
 ],
 "metadata": {
  "kernelspec": {
   "display_name": "llm-comparison",
   "language": "python",
   "name": "python3"
  },
  "language_info": {
   "name": "python",
   "version": "3.9.23"
  }
 },
 "nbformat": 4,
 "nbformat_minor": 5
}
